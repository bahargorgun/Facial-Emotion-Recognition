{
  "cells": [
    {
      "cell_type": "code",
      "execution_count": null,
      "metadata": {
        "colab": {
          "base_uri": "https://localhost:8080/",
          "height": 35
        },
        "id": "xU4zAug_4Ylz",
        "outputId": "2b4bc72d-3212-4e34-bf1a-56dfbb569500"
      },
      "outputs": [
        {
          "output_type": "display_data",
          "data": {
            "text/plain": [
              "<IPython.core.display.HTML object>"
            ],
            "text/html": [
              "\n",
              "     <input type=\"file\" id=\"files-61b539de-dc17-43fe-a47e-598161fe1957\" name=\"files[]\" multiple disabled\n",
              "        style=\"border:none\" />\n",
              "     <output id=\"result-61b539de-dc17-43fe-a47e-598161fe1957\">\n",
              "      Upload widget is only available when the cell has been executed in the\n",
              "      current browser session. Please rerun this cell to enable.\n",
              "      </output>\n",
              "      <script>// Copyright 2017 Google LLC\n",
              "//\n",
              "// Licensed under the Apache License, Version 2.0 (the \"License\");\n",
              "// you may not use this file except in compliance with the License.\n",
              "// You may obtain a copy of the License at\n",
              "//\n",
              "//      http://www.apache.org/licenses/LICENSE-2.0\n",
              "//\n",
              "// Unless required by applicable law or agreed to in writing, software\n",
              "// distributed under the License is distributed on an \"AS IS\" BASIS,\n",
              "// WITHOUT WARRANTIES OR CONDITIONS OF ANY KIND, either express or implied.\n",
              "// See the License for the specific language governing permissions and\n",
              "// limitations under the License.\n",
              "\n",
              "/**\n",
              " * @fileoverview Helpers for google.colab Python module.\n",
              " */\n",
              "(function(scope) {\n",
              "function span(text, styleAttributes = {}) {\n",
              "  const element = document.createElement('span');\n",
              "  element.textContent = text;\n",
              "  for (const key of Object.keys(styleAttributes)) {\n",
              "    element.style[key] = styleAttributes[key];\n",
              "  }\n",
              "  return element;\n",
              "}\n",
              "\n",
              "// Max number of bytes which will be uploaded at a time.\n",
              "const MAX_PAYLOAD_SIZE = 100 * 1024;\n",
              "\n",
              "function _uploadFiles(inputId, outputId) {\n",
              "  const steps = uploadFilesStep(inputId, outputId);\n",
              "  const outputElement = document.getElementById(outputId);\n",
              "  // Cache steps on the outputElement to make it available for the next call\n",
              "  // to uploadFilesContinue from Python.\n",
              "  outputElement.steps = steps;\n",
              "\n",
              "  return _uploadFilesContinue(outputId);\n",
              "}\n",
              "\n",
              "// This is roughly an async generator (not supported in the browser yet),\n",
              "// where there are multiple asynchronous steps and the Python side is going\n",
              "// to poll for completion of each step.\n",
              "// This uses a Promise to block the python side on completion of each step,\n",
              "// then passes the result of the previous step as the input to the next step.\n",
              "function _uploadFilesContinue(outputId) {\n",
              "  const outputElement = document.getElementById(outputId);\n",
              "  const steps = outputElement.steps;\n",
              "\n",
              "  const next = steps.next(outputElement.lastPromiseValue);\n",
              "  return Promise.resolve(next.value.promise).then((value) => {\n",
              "    // Cache the last promise value to make it available to the next\n",
              "    // step of the generator.\n",
              "    outputElement.lastPromiseValue = value;\n",
              "    return next.value.response;\n",
              "  });\n",
              "}\n",
              "\n",
              "/**\n",
              " * Generator function which is called between each async step of the upload\n",
              " * process.\n",
              " * @param {string} inputId Element ID of the input file picker element.\n",
              " * @param {string} outputId Element ID of the output display.\n",
              " * @return {!Iterable<!Object>} Iterable of next steps.\n",
              " */\n",
              "function* uploadFilesStep(inputId, outputId) {\n",
              "  const inputElement = document.getElementById(inputId);\n",
              "  inputElement.disabled = false;\n",
              "\n",
              "  const outputElement = document.getElementById(outputId);\n",
              "  outputElement.innerHTML = '';\n",
              "\n",
              "  const pickedPromise = new Promise((resolve) => {\n",
              "    inputElement.addEventListener('change', (e) => {\n",
              "      resolve(e.target.files);\n",
              "    });\n",
              "  });\n",
              "\n",
              "  const cancel = document.createElement('button');\n",
              "  inputElement.parentElement.appendChild(cancel);\n",
              "  cancel.textContent = 'Cancel upload';\n",
              "  const cancelPromise = new Promise((resolve) => {\n",
              "    cancel.onclick = () => {\n",
              "      resolve(null);\n",
              "    };\n",
              "  });\n",
              "\n",
              "  // Wait for the user to pick the files.\n",
              "  const files = yield {\n",
              "    promise: Promise.race([pickedPromise, cancelPromise]),\n",
              "    response: {\n",
              "      action: 'starting',\n",
              "    }\n",
              "  };\n",
              "\n",
              "  cancel.remove();\n",
              "\n",
              "  // Disable the input element since further picks are not allowed.\n",
              "  inputElement.disabled = true;\n",
              "\n",
              "  if (!files) {\n",
              "    return {\n",
              "      response: {\n",
              "        action: 'complete',\n",
              "      }\n",
              "    };\n",
              "  }\n",
              "\n",
              "  for (const file of files) {\n",
              "    const li = document.createElement('li');\n",
              "    li.append(span(file.name, {fontWeight: 'bold'}));\n",
              "    li.append(span(\n",
              "        `(${file.type || 'n/a'}) - ${file.size} bytes, ` +\n",
              "        `last modified: ${\n",
              "            file.lastModifiedDate ? file.lastModifiedDate.toLocaleDateString() :\n",
              "                                    'n/a'} - `));\n",
              "    const percent = span('0% done');\n",
              "    li.appendChild(percent);\n",
              "\n",
              "    outputElement.appendChild(li);\n",
              "\n",
              "    const fileDataPromise = new Promise((resolve) => {\n",
              "      const reader = new FileReader();\n",
              "      reader.onload = (e) => {\n",
              "        resolve(e.target.result);\n",
              "      };\n",
              "      reader.readAsArrayBuffer(file);\n",
              "    });\n",
              "    // Wait for the data to be ready.\n",
              "    let fileData = yield {\n",
              "      promise: fileDataPromise,\n",
              "      response: {\n",
              "        action: 'continue',\n",
              "      }\n",
              "    };\n",
              "\n",
              "    // Use a chunked sending to avoid message size limits. See b/62115660.\n",
              "    let position = 0;\n",
              "    do {\n",
              "      const length = Math.min(fileData.byteLength - position, MAX_PAYLOAD_SIZE);\n",
              "      const chunk = new Uint8Array(fileData, position, length);\n",
              "      position += length;\n",
              "\n",
              "      const base64 = btoa(String.fromCharCode.apply(null, chunk));\n",
              "      yield {\n",
              "        response: {\n",
              "          action: 'append',\n",
              "          file: file.name,\n",
              "          data: base64,\n",
              "        },\n",
              "      };\n",
              "\n",
              "      let percentDone = fileData.byteLength === 0 ?\n",
              "          100 :\n",
              "          Math.round((position / fileData.byteLength) * 100);\n",
              "      percent.textContent = `${percentDone}% done`;\n",
              "\n",
              "    } while (position < fileData.byteLength);\n",
              "  }\n",
              "\n",
              "  // All done.\n",
              "  yield {\n",
              "    response: {\n",
              "      action: 'complete',\n",
              "    }\n",
              "  };\n",
              "}\n",
              "\n",
              "scope.google = scope.google || {};\n",
              "scope.google.colab = scope.google.colab || {};\n",
              "scope.google.colab._files = {\n",
              "  _uploadFiles,\n",
              "  _uploadFilesContinue,\n",
              "};\n",
              "})(self);\n",
              "</script> "
            ]
          },
          "metadata": {}
        }
      ],
      "source": [
        "from google.colab import files\n",
        "files.upload()"
      ]
    },
    {
      "cell_type": "code",
      "execution_count": null,
      "metadata": {
        "id": "YzOqimjc3-3p"
      },
      "outputs": [],
      "source": [
        "!pip install -q kaggle"
      ]
    },
    {
      "cell_type": "code",
      "execution_count": null,
      "metadata": {
        "id": "PbHZ5LVP4DcN"
      },
      "outputs": [],
      "source": [
        "!mkdir -p ~/.kaggle\n",
        "!cp kaggle.json ~/.kaggle/\n",
        "\n"
      ]
    },
    {
      "cell_type": "code",
      "execution_count": null,
      "metadata": {
        "colab": {
          "base_uri": "https://localhost:8080/"
        },
        "id": "TirCxwxu4HF_",
        "outputId": "169d6444-4895-4d3e-9de7-bfb39f749af1"
      },
      "outputs": [
        {
          "name": "stdout",
          "output_type": "stream",
          "text": [
            "kaggle.json\n"
          ]
        }
      ],
      "source": [
        "!ls ~/.kaggle"
      ]
    },
    {
      "cell_type": "code",
      "execution_count": null,
      "metadata": {
        "colab": {
          "base_uri": "https://localhost:8080/"
        },
        "id": "ON7J2utZ4NMC",
        "outputId": "427afbb2-0976-44d8-8796-5058ff302195"
      },
      "outputs": [
        {
          "name": "stdout",
          "output_type": "stream",
          "text": [
            "Warning: Your Kaggle API key is readable by other users on this system! To fix this, you can run 'chmod 600 /root/.kaggle/kaggle.json'\n",
            "Downloading fer2013.zip to /content\n",
            " 96% 58.0M/60.3M [00:00<00:00, 145MB/s]\n",
            "100% 60.3M/60.3M [00:00<00:00, 145MB/s]\n"
          ]
        }
      ],
      "source": [
        "!kaggle datasets download -d msambare/fer2013"
      ]
    },
    {
      "cell_type": "code",
      "execution_count": null,
      "metadata": {
        "id": "z7vVFf5c5rrC"
      },
      "outputs": [],
      "source": [
        "!unzip -qq fer2013.zip"
      ]
    },
    {
      "cell_type": "code",
      "execution_count": null,
      "metadata": {
        "id": "-8m3iAbi8uSB"
      },
      "outputs": [],
      "source": [
        "import tensorflow as tf\n",
        "from tensorflow import keras\n",
        "from tensorflow.keras import layers\n",
        "from tensorflow.keras import datasets, layers, models\n",
        "from tensorflow.keras.models import Sequential, load_model\n",
        "from tensorflow.keras.layers import Dense, Flatten, Conv2D, MaxPooling2D, Dropout, GlobalAveragePooling2D\n",
        "from tensorflow.keras.models import Model\n",
        "from tensorflow.keras.callbacks import ModelCheckpoint, EarlyStopping\n",
        "from tensorflow.keras.optimizers import Adam\n",
        "from tensorflow.keras import regularizers\n",
        "import matplotlib.pyplot as plt\n",
        "import matplotlib.image as mpimg\n",
        "from keras.preprocessing import image\n",
        "import numpy as np\n",
        "import os\n",
        "import datetime\n",
        "%matplotlib inline"
      ]
    },
    {
      "cell_type": "code",
      "execution_count": null,
      "metadata": {
        "id": "7BrCForv811Q"
      },
      "outputs": [],
      "source": [
        "imagePaths = \"train\"\n",
        "test_path=\"test\""
      ]
    },
    {
      "cell_type": "code",
      "execution_count": null,
      "metadata": {
        "colab": {
          "base_uri": "https://localhost:8080/"
        },
        "id": "aJ_HiqLk84lA",
        "outputId": "7d9231bc-2279-4cf8-bcdb-de277f592fd4"
      },
      "outputs": [
        {
          "name": "stdout",
          "output_type": "stream",
          "text": [
            "total 356\n",
            "drwxr-xr-x 9 root root  4096 May 29 10:47 .\n",
            "drwxr-xr-x 1 root root  4096 May 29 10:47 ..\n",
            "drwxr-xr-x 2 root root 45056 May 29 10:47 angry\n",
            "drwxr-xr-x 2 root root  4096 May 29 10:47 disgust\n",
            "drwxr-xr-x 2 root root 57344 May 29 10:47 fear\n",
            "drwxr-xr-x 2 root root 73728 May 29 10:47 happy\n",
            "drwxr-xr-x 2 root root 61440 May 29 10:47 neutral\n",
            "drwxr-xr-x 2 root root 69632 May 29 10:47 sad\n",
            "drwxr-xr-x 2 root root 40960 May 29 10:47 surprise\n"
          ]
        }
      ],
      "source": [
        "!ls -al test"
      ]
    },
    {
      "cell_type": "code",
      "execution_count": null,
      "metadata": {
        "id": "BLN7JJCM9DkK"
      },
      "outputs": [],
      "source": [
        "tf.keras.utils.set_random_seed(1234)"
      ]
    },
    {
      "cell_type": "code",
      "execution_count": null,
      "metadata": {
        "id": "bYRSnaHaeVfe"
      },
      "outputs": [],
      "source": [
        "batch_size=64\n",
        "img_height = 48\n",
        "img_width = 48"
      ]
    },
    {
      "cell_type": "code",
      "execution_count": null,
      "metadata": {
        "colab": {
          "base_uri": "https://localhost:8080/"
        },
        "id": "DOCHl_t-ebRe",
        "outputId": "e799d019-7118-44c5-c1d3-602f5df465bd"
      },
      "outputs": [
        {
          "name": "stdout",
          "output_type": "stream",
          "text": [
            "Found 28709 files belonging to 7 classes.\n",
            "Using 24403 files for training.\n"
          ]
        }
      ],
      "source": [
        "train_ds = tf.keras.preprocessing.image_dataset_from_directory(\n",
        "  imagePaths,\n",
        "  #color_mode='grayscale',\n",
        "  validation_split=0.15,\n",
        "  subset=\"training\",\n",
        "  seed=123,\n",
        "  image_size=(img_height, img_width),\n",
        "  batch_size=batch_size)"
      ]
    },
    {
      "cell_type": "code",
      "execution_count": null,
      "metadata": {
        "colab": {
          "base_uri": "https://localhost:8080/"
        },
        "id": "O7H0c_ZYec1m",
        "outputId": "a647b858-a760-4178-e8d1-228671b3f8eb"
      },
      "outputs": [
        {
          "name": "stdout",
          "output_type": "stream",
          "text": [
            "Found 28709 files belonging to 7 classes.\n",
            "Using 4306 files for validation.\n"
          ]
        }
      ],
      "source": [
        "val_ds = tf.keras.preprocessing.image_dataset_from_directory(\n",
        "  imagePaths,\n",
        "  #color_mode='grayscale',\n",
        "  validation_split=0.15,\n",
        "  subset=\"validation\",\n",
        "  seed=123,\n",
        "  image_size=(img_height, img_width),\n",
        "  batch_size=batch_size)"
      ]
    },
    {
      "cell_type": "code",
      "execution_count": null,
      "metadata": {
        "colab": {
          "base_uri": "https://localhost:8080/"
        },
        "id": "oMVQPFbNejbP",
        "outputId": "91fea82e-ca76-4b99-fdef-faddcc9592b8"
      },
      "outputs": [
        {
          "name": "stdout",
          "output_type": "stream",
          "text": [
            "Found 7178 files belonging to 7 classes.\n"
          ]
        }
      ],
      "source": [
        "\n",
        "test_ds = tf.keras.preprocessing.image_dataset_from_directory(\n",
        "  test_path,\n",
        "  #seed=123,\n",
        "  image_size=(img_height, img_width),\n",
        "  #label_mode=\"categorical\",\n",
        "  batch_size=batch_size)"
      ]
    },
    {
      "cell_type": "code",
      "execution_count": null,
      "metadata": {
        "colab": {
          "base_uri": "https://localhost:8080/"
        },
        "id": "8RvIIfBLelqv",
        "outputId": "712cf9e5-f78a-46a7-c46a-c5d1a7b585e8"
      },
      "outputs": [
        {
          "name": "stdout",
          "output_type": "stream",
          "text": [
            "(64, 48, 48, 3)\n",
            "(64,)\n",
            "64\n",
            "64\n"
          ]
        }
      ],
      "source": [
        "for image_batch, labels_batch in train_ds:\n",
        "  print(image_batch.shape)\n",
        "  print(labels_batch.shape)\n",
        "  break\n"
      ]
    },
    {
      "cell_type": "code",
      "execution_count": null,
      "metadata": {
        "id": "s8ndgoWPMU69"
      },
      "outputs": [],
      "source": [
        "normalization_layer = layers.Rescaling(1./255)"
      ]
    },
    {
      "cell_type": "code",
      "execution_count": null,
      "metadata": {
        "colab": {
          "base_uri": "https://localhost:8080/"
        },
        "id": "xpbzSyxFMYkh",
        "outputId": "fadcc71c-2207-4719-dae7-a194b6c57299"
      },
      "outputs": [
        {
          "name": "stdout",
          "output_type": "stream",
          "text": [
            "0.015686275 0.91372555\n"
          ]
        }
      ],
      "source": [
        "normalized_ds = train_ds.map(lambda x, y: (normalization_layer(x), y))\n",
        "image_batch, labels_batch = next(iter(normalized_ds))\n",
        "first_image = image_batch[0]\n",
        "# Notice the pixel values are now in `[0,1]`.\n",
        "print(np.min(first_image), np.max(first_image))"
      ]
    },
    {
      "cell_type": "code",
      "execution_count": null,
      "metadata": {
        "colab": {
          "base_uri": "https://localhost:8080/",
          "height": 457
        },
        "id": "ckQviXYZen6M",
        "outputId": "86af8c0f-6ea3-4ada-913a-35e8aafd17ef"
      },
      "outputs": [
        {
          "data": {
            "image/png": "[encoded data removed]",
            "text/plain": [
              "<Figure size 800x800 with 6 Axes>"
            ]
          },
          "metadata": {},
          "output_type": "display_data"
        }
      ],
      "source": [
        "\n",
        "class_names = train_ds.class_names\n",
        "plt.figure(figsize=(8, 8))\n",
        "for images, labels in train_ds.take(1):\n",
        "  for i in range(6):\n",
        "    ax = plt.subplot(3, 3, i + 1)\n",
        "    plt.imshow(images[i].numpy().astype(\"uint8\"))\n",
        "    plt.title(class_names[labels[i]])\n",
        "    plt.axis(\"off\")"
      ]
    },
    {
      "cell_type": "code",
      "execution_count": null,
      "metadata": {
        "id": "JdaSYBUAeqmF"
      },
      "outputs": [],
      "source": [
        "data_augmentation= Sequential([\n",
        "                               layers.RandomFlip(\"horizontal\"),\n",
        "                               layers.RandomBrightness(factor=0.1, value_range=(0, 255), seed=123)\n",
        "])"
      ]
    },
    {
      "cell_type": "code",
      "execution_count": null,
      "metadata": {
        "colab": {
          "base_uri": "https://localhost:8080/",
          "height": 807
        },
        "id": "uoP6QPlLe1pM",
        "outputId": "85edba86-bb34-42a6-b27c-8d45ceac00ab"
      },
      "outputs": [
        {
          "data": {
            "image/png": "[encoded data removed]",
            "text/plain": [
              "<Figure size 1000x1000 with 9 Axes>"
            ]
          },
          "metadata": {},
          "output_type": "display_data"
        }
      ],
      "source": [
        "plt.figure(figsize=(10, 10))\n",
        "for images, _ in train_ds.take(1):\n",
        "    for i in range(9):\n",
        "        augmented_images = data_augmentation(images)\n",
        "        ax = plt.subplot(3, 3, i + 1)\n",
        "        plt.imshow(augmented_images[0].numpy().astype(\"uint8\"))\n",
        "        plt.axis(\"off\")"
      ]
    },
    {
      "cell_type": "code",
      "execution_count": null,
      "metadata": {
        "id": "2ELvQOCTfFRw"
      },
      "outputs": [],
      "source": [
        "model = Sequential()\n",
        "model.add(Conv2D(32, kernel_size=(2,2), activation='relu', input_shape=(48,48,3)))\n",
        "model.add(Conv2D(256, kernel_size=(2,2), activation='relu'))\n",
        "model.add(MaxPooling2D(pool_size = (2,2)))\n",
        "model.add(Dropout(0.30))\n",
        "\n",
        "model.add(Conv2D(128, kernel_size=(2,2), activation='relu'))\n",
        "model.add(MaxPooling2D(pool_size = (2,2)))\n",
        "model.add(Dropout(0.30))\n",
        "\n",
        "model.add(Conv2D(128, kernel_size=(2,2), activation='relu'))\n",
        "model.add(MaxPooling2D(pool_size = (2,2)))\n",
        "model.add(Dropout(0.30))\n",
        "\n",
        "model.add(Conv2D(128, kernel_size=(2,2), activation='relu'))\n",
        "\n",
        "\n",
        "model.add(Conv2D(128, kernel_size=(2,2), activation='relu'))\n",
        "model.add(Conv2D(128, kernel_size=(2,2), activation='relu'))\n",
        "\n",
        "model.add(Conv2D(64, kernel_size=(2,2), activation='relu'))\n",
        "\n",
        "model.add(Dropout(0.30))\n",
        "\n",
        "model.add(Flatten())\n",
        "\n",
        "model.add(Dense(64, activation='relu'))\n",
        "model.add(Dense(64, activation='relu'))\n",
        "model.add(Dropout(0.5))\n",
        "\n",
        "model.add(Dense(32, activation='softmax'))\n"
      ]
    },
    {
      "cell_type": "code",
      "execution_count": null,
      "metadata": {
        "colab": {
          "base_uri": "https://localhost:8080/"
        },
        "id": "jSMbF-vgfIoG",
        "outputId": "1a76c767-d353-47fc-a381-6ba481282b01"
      },
      "outputs": [
        {
          "name": "stdout",
          "output_type": "stream",
          "text": [
            "Model: \"sequential_12\"\n",
            "_________________________________________________________________\n",
            " Layer (type)                Output Shape              Param #   \n",
            "=================================================================\n",
            " conv2d_58 (Conv2D)          (None, 47, 47, 32)        416       \n",
            "                                                                 \n",
            " conv2d_59 (Conv2D)          (None, 46, 46, 256)       33024     \n",
            "                                                                 \n",
            " max_pooling2d_43 (MaxPoolin  (None, 23, 23, 256)      0         \n",
            " g2D)                                                            \n",
            "                                                                 \n",
            " dropout_44 (Dropout)        (None, 23, 23, 256)       0         \n",
            "                                                                 \n",
            " conv2d_60 (Conv2D)          (None, 22, 22, 128)       131200    \n",
            "                                                                 \n",
            " max_pooling2d_44 (MaxPoolin  (None, 11, 11, 128)      0         \n",
            " g2D)                                                            \n",
            "                                                                 \n",
            " dropout_45 (Dropout)        (None, 11, 11, 128)       0         \n",
            "                                                                 \n",
            " conv2d_61 (Conv2D)          (None, 10, 10, 128)       65664     \n",
            "                                                                 \n",
            " max_pooling2d_45 (MaxPoolin  (None, 5, 5, 128)        0         \n",
            " g2D)                                                            \n",
            "                                                                 \n",
            " dropout_46 (Dropout)        (None, 5, 5, 128)         0         \n",
            "                                                                 \n",
            " conv2d_62 (Conv2D)          (None, 4, 4, 128)         65664     \n",
            "                                                                 \n",
            " conv2d_63 (Conv2D)          (None, 3, 3, 128)         65664     \n",
            "                                                                 \n",
            " conv2d_64 (Conv2D)          (None, 2, 2, 128)         65664     \n",
            "                                                                 \n",
            " conv2d_65 (Conv2D)          (None, 1, 1, 64)          32832     \n",
            "                                                                 \n",
            " dropout_47 (Dropout)        (None, 1, 1, 64)          0         \n",
            "                                                                 \n",
            " flatten_6 (Flatten)         (None, 64)                0         \n",
            "                                                                 \n",
            " dense_17 (Dense)            (None, 64)                4160      \n",
            "                                                                 \n",
            " dense_18 (Dense)            (None, 64)                4160      \n",
            "                                                                 \n",
            " dropout_48 (Dropout)        (None, 64)                0         \n",
            "                                                                 \n",
            " dense_19 (Dense)            (None, 32)                2080      \n",
            "                                                                 \n",
            "=================================================================\n",
            "Total params: 470,528\n",
            "Trainable params: 470,528\n",
            "Non-trainable params: 0\n",
            "_________________________________________________________________\n"
          ]
        }
      ],
      "source": [
        "model.summary()"
      ]
    },
    {
      "cell_type": "code",
      "execution_count": null,
      "metadata": {
        "id": "hfi_4WKMfLhx"
      },
      "outputs": [],
      "source": [
        "def get_early_stopping():\n",
        "\n",
        "    return tf.keras.callbacks.EarlyStopping(monitor='val_loss', patience=5)"
      ]
    },
    {
      "cell_type": "code",
      "execution_count": null,
      "metadata": {
        "id": "cy4WgK13fxfZ"
      },
      "outputs": [],
      "source": [
        "\n",
        "def get_checkpoint_best_only():\n",
        "\n",
        "    checkpoint_best_path= 'checkpoints_best_only'\n",
        "    checkpoint_best= ModelCheckpoint(filepath=checkpoint_best_path,\n",
        "                           frequency='epoch',\n",
        "                           save_weights_only=False,\n",
        "                           monitor='val_accuracy',\n",
        "                           save_best_only=True,\n",
        "                           verbose=1)\n",
        "    return checkpoint_best\n",
        ""
      ]
    },
    {
      "cell_type": "code",
      "execution_count": null,
      "metadata": {
        "id": "CQy7VIXKf0A_"
      },
      "outputs": [],
      "source": [
        "checkpoint_best_only = get_checkpoint_best_only()\n",
        "early_stopping = get_early_stopping()\n",
        "log_dir = \"logs/fit/\" + datetime.datetime.now().strftime(\"%Y%m%d-%H%M%S\")\n",
        "tensorboard_callback = tf.keras.callbacks.TensorBoard(log_dir=log_dir, histogram_freq=1)\n",
        "\n",
        "#callbacks = [checkpoint_best_only, early_stopping, tensorboard_callback]\n",
        "callbacks = [checkpoint_best_only, tensorboard_callback, early_stopping]"
      ]
    },
    {
      "cell_type": "code",
      "execution_count": null,
      "metadata": {
        "id": "0plEVPm8fRtp"
      },
      "outputs": [],
      "source": [
        "import numpy as np\n",
        "from sklearn.utils.class_weight import compute_class_weight\n",
        "from sklearn.preprocessing import MultiLabelBinarizer\n",
        "\n",
        "\n",
        "def generate_class_weights(class_series, multi_class=True, one_hot_encoded=False):\n",
        "  \"\"\"\n",
        "  Method to generate class weights given a set of multi-class or multi-label labels, both one-hot-encoded or not.\n",
        "  Some examples of different formats of class_series and their outputs are:\n",
        "    - generate_class_weights(['mango', 'lemon', 'banana', 'mango'], multi_class=True, one_hot_encoded=False)\n",
        "    {'banana': 1.3333333333333333, 'lemon': 1.3333333333333333, 'mango': 0.6666666666666666}\n",
        "    - generate_class_weights([[1, 0, 0], [0, 1, 0], [0, 0, 1], [1, 0, 0]], multi_class=True, one_hot_encoded=True)\n",
        "    {0: 0.6666666666666666, 1: 1.3333333333333333, 2: 1.3333333333333333}\n",
        "    - generate_class_weights([['mango', 'lemon'], ['mango'], ['lemon', 'banana'], ['lemon']], multi_class=False, one_hot_encoded=False)\n",
        "    {'banana': 1.3333333333333333, 'lemon': 0.4444444444444444, 'mango': 0.6666666666666666}\n",
        "    - generate_class_weights([[0, 1, 1], [0, 0, 1], [1, 1, 0], [0, 1, 0]], multi_class=False, one_hot_encoded=True)\n",
        "    {0: 1.3333333333333333, 1: 0.4444444444444444, 2: 0.6666666666666666}\n",
        "  The output is a dictionary in the format { class_label: class_weight }. In case the input is one hot encoded, the class_label would be index\n",
        "  of appareance of the label when the dataset was processed.\n",
        "  In multi_class this is np.unique(class_series) and in multi-label np.unique(np.concatenate(class_series)).\n",
        "  Author: Angel Igareta (angel@igareta.com)\n",
        "  \"\"\"\n",
        "  if multi_class:\n",
        "    # If class is one hot encoded, transform to categorical labels to use compute_class_weight\n",
        "    if one_hot_encoded:\n",
        "      class_series = np.argmax(class_series, axis=1)\n",
        "\n",
        "    # Compute class weights with sklearn method\n",
        "    class_labels = np.unique(class_series)\n",
        "    class_weights = compute_class_weight(class_weight='balanced', classes=class_labels, y=class_series)\n",
        "    return dict(zip(class_labels, class_weights))\n",
        "  else:\n",
        "    # It is neccessary that the multi-label values are one-hot encoded\n",
        "    mlb = None\n",
        "    if not one_hot_encoded:\n",
        "      mlb = MultiLabelBinarizer()\n",
        "      class_series = mlb.fit_transform(class_series)\n",
        "\n",
        "    n_samples = len(class_series)\n",
        "    n_classes = len(class_series[0])\n",
        "\n",
        "    # Count each class frequency\n",
        "    class_count = [0] * n_classes\n",
        "    for classes in class_series:\n",
        "        for index in range(n_classes):\n",
        "            if classes[index] != 0:\n",
        "                class_count[index] += 1\n",
        "\n",
        "    # Compute class weights using balanced method\n",
        "    class_weights = [n_samples / (n_classes * freq) if freq > 0 else 1 for freq in class_count]\n",
        "    class_labels = range(len(class_weights)) if mlb is None else mlb.classes_\n",
        "    return dict(zip(class_labels, class_weights))"
      ]
    },
    {
      "cell_type": "code",
      "execution_count": null,
      "metadata": {
        "id": "hFh6ATqQfZcz"
      },
      "outputs": [],
      "source": [
        "y_train= tf.concat([y for x, y in train_ds], axis=0)"
      ]
    },
    {
      "cell_type": "code",
      "execution_count": null,
      "metadata": {
        "id": "4ihnMKhnfbYJ"
      },
      "outputs": [],
      "source": [
        "class_weights = generate_class_weights(y_train.numpy())"
      ]
    },
    {
      "cell_type": "code",
      "execution_count": null,
      "metadata": {
        "id": "TH969b_3fdkN"
      },
      "outputs": [],
      "source": [
        "model.compile(\n",
        "  optimizer='adam',\n",
        "  loss=tf.losses.SparseCategoricalCrossentropy(),\n",
        "  metrics=['accuracy'])"
      ]
    },
    {
      "cell_type": "code",
      "execution_count": null,
      "metadata": {
        "colab": {
          "background_save": true,
          "base_uri": "https://localhost:8080/"
        },
        "id": "298gJt9cfe-g",
        "outputId": "a931189b-6588-42a4-fe24-3c5e2765f55c"
      },
      "outputs": [
        {
          "name": "stdout",
          "output_type": "stream",
          "text": [
            "Epoch 1/50\n",
            "382/382 [==============================] - ETA: 0s - loss: 2.4507 - accuracy: 0.1411\n",
            "Epoch 1: val_accuracy did not improve from 0.46516\n",
            "382/382 [==============================] - 19s 40ms/step - loss: 2.4507 - accuracy: 0.1411 - val_loss: 2.2426 - val_accuracy: 0.1398\n",
            "Epoch 2/50\n",
            "381/382 [============================>.] - ETA: 0s - loss: 2.0106 - accuracy: 0.1265\n",
            "Epoch 2: val_accuracy did not improve from 0.46516\n",
            "382/382 [==============================] - 15s 39ms/step - loss: 2.0103 - accuracy: 0.1265 - val_loss: 1.9681 - val_accuracy: 0.1681\n",
            "Epoch 3/50\n",
            "381/382 [============================>.] - ETA: 0s - loss: 1.9733 - accuracy: 0.1184\n",
            "Epoch 3: val_accuracy did not improve from 0.46516\n",
            "382/382 [==============================] - 15s 40ms/step - loss: 1.9730 - accuracy: 0.1183 - val_loss: 1.9460 - val_accuracy: 0.1725\n",
            "Epoch 4/50\n",
            "381/382 [============================>.] - ETA: 0s - loss: 1.9623 - accuracy: 0.1238\n",
            "Epoch 4: val_accuracy did not improve from 0.46516\n",
            "382/382 [==============================] - 17s 44ms/step - loss: 1.9621 - accuracy: 0.1238 - val_loss: 1.9376 - val_accuracy: 0.1681\n",
            "Epoch 5/50\n",
            "381/382 [============================>.] - ETA: 0s - loss: 1.9570 - accuracy: 0.1303\n",
            "Epoch 5: val_accuracy did not improve from 0.46516\n",
            "382/382 [==============================] - 15s 40ms/step - loss: 1.9568 - accuracy: 0.1303 - val_loss: 1.9393 - val_accuracy: 0.1681\n",
            "Epoch 6/50\n",
            "381/382 [============================>.] - ETA: 0s - loss: 1.9547 - accuracy: 0.1213\n",
            "Epoch 6: val_accuracy did not improve from 0.46516\n",
            "382/382 [==============================] - 16s 41ms/step - loss: 1.9553 - accuracy: 0.1214 - val_loss: 1.9458 - val_accuracy: 0.1438\n",
            "Epoch 7/50\n",
            "382/382 [==============================] - ETA: 0s - loss: 1.9529 - accuracy: 0.1301\n",
            "Epoch 7: val_accuracy did not improve from 0.46516\n",
            "382/382 [==============================] - 15s 40ms/step - loss: 1.9529 - accuracy: 0.1301 - val_loss: 1.9414 - val_accuracy: 0.1681\n",
            "Epoch 8/50\n",
            "381/382 [============================>.] - ETA: 0s - loss: 1.9543 - accuracy: 0.1297\n",
            "Epoch 8: val_accuracy did not improve from 0.46516\n",
            "382/382 [==============================] - 15s 39ms/step - loss: 1.9541 - accuracy: 0.1297 - val_loss: 1.9492 - val_accuracy: 0.0920\n",
            "Epoch 9/50\n",
            "381/382 [============================>.] - ETA: 0s - loss: 1.9499 - accuracy: 0.1369\n",
            "Epoch 9: val_accuracy did not improve from 0.46516\n",
            "382/382 [==============================] - 15s 39ms/step - loss: 1.9498 - accuracy: 0.1369 - val_loss: 1.9205 - val_accuracy: 0.1558\n",
            "Epoch 10/50\n",
            "381/382 [============================>.] - ETA: 0s - loss: 1.9296 - accuracy: 0.1662\n",
            "Epoch 10: val_accuracy did not improve from 0.46516\n",
            "382/382 [==============================] - 16s 41ms/step - loss: 1.9300 - accuracy: 0.1662 - val_loss: 1.8752 - val_accuracy: 0.2415\n",
            "Epoch 11/50\n",
            "381/382 [============================>.] - ETA: 0s - loss: 1.9065 - accuracy: 0.1883\n",
            "Epoch 11: val_accuracy did not improve from 0.46516\n",
            "382/382 [==============================] - 15s 39ms/step - loss: 1.9069 - accuracy: 0.1884 - val_loss: 1.8266 - val_accuracy: 0.2355\n",
            "Epoch 12/50\n",
            "381/382 [============================>.] - ETA: 0s - loss: 1.8814 - accuracy: 0.1967\n",
            "Epoch 12: val_accuracy did not improve from 0.46516\n",
            "382/382 [==============================] - 15s 39ms/step - loss: 1.8813 - accuracy: 0.1967 - val_loss: 1.8286 - val_accuracy: 0.2606\n",
            "Epoch 13/50\n",
            "381/382 [============================>.] - ETA: 0s - loss: 1.8471 - accuracy: 0.2094\n",
            "Epoch 13: val_accuracy did not improve from 0.46516\n",
            "382/382 [==============================] - 15s 39ms/step - loss: 1.8470 - accuracy: 0.2094 - val_loss: 1.7859 - val_accuracy: 0.2538\n",
            "Epoch 14/50\n",
            "382/382 [==============================] - ETA: 0s - loss: 1.8285 - accuracy: 0.2230\n",
            "Epoch 14: val_accuracy did not improve from 0.46516\n",
            "382/382 [==============================] - 16s 40ms/step - loss: 1.8285 - accuracy: 0.2230 - val_loss: 1.7919 - val_accuracy: 0.2420\n",
            "Epoch 15/50\n",
            "382/382 [==============================] - ETA: 0s - loss: 1.7957 - accuracy: 0.2239\n",
            "Epoch 15: val_accuracy did not improve from 0.46516\n",
            "382/382 [==============================] - 15s 40ms/step - loss: 1.7957 - accuracy: 0.2239 - val_loss: 1.7742 - val_accuracy: 0.2373\n",
            "Epoch 16/50\n",
            "381/382 [============================>.] - ETA: 0s - loss: 1.7898 - accuracy: 0.2207\n",
            "Epoch 16: val_accuracy did not improve from 0.46516\n",
            "382/382 [==============================] - 15s 39ms/step - loss: 1.7895 - accuracy: 0.2208 - val_loss: 1.7752 - val_accuracy: 0.2408\n",
            "Epoch 17/50\n",
            "382/382 [==============================] - ETA: 0s - loss: 1.7658 - accuracy: 0.2441\n",
            "Epoch 17: val_accuracy did not improve from 0.46516\n",
            "382/382 [==============================] - 15s 40ms/step - loss: 1.7658 - accuracy: 0.2441 - val_loss: 1.7303 - val_accuracy: 0.3054\n",
            "Epoch 18/50\n",
            "382/382 [==============================] - ETA: 0s - loss: 1.7400 - accuracy: 0.2686\n",
            "Epoch 18: val_accuracy did not improve from 0.46516\n",
            "382/382 [==============================] - 15s 39ms/step - loss: 1.7400 - accuracy: 0.2686 - val_loss: 1.7416 - val_accuracy: 0.2706\n",
            "Epoch 19/50\n",
            "381/382 [============================>.] - ETA: 0s - loss: 1.7206 - accuracy: 0.2841\n",
            "Epoch 19: val_accuracy did not improve from 0.46516\n",
            "382/382 [==============================] - 15s 39ms/step - loss: 1.7206 - accuracy: 0.2842 - val_loss: 1.7257 - val_accuracy: 0.3223\n",
            "Epoch 20/50\n",
            "381/382 [============================>.] - ETA: 0s - loss: 1.7063 - accuracy: 0.3007\n",
            "Epoch 20: val_accuracy did not improve from 0.46516\n",
            "382/382 [==============================] - 15s 39ms/step - loss: 1.7062 - accuracy: 0.3007 - val_loss: 1.6577 - val_accuracy: 0.3490\n",
            "Epoch 21/50\n",
            "381/382 [============================>.] - ETA: 0s - loss: 1.7084 - accuracy: 0.3018\n",
            "Epoch 21: val_accuracy did not improve from 0.46516\n",
            "382/382 [==============================] - 16s 41ms/step - loss: 1.7082 - accuracy: 0.3018 - val_loss: 1.6167 - val_accuracy: 0.3458\n",
            "Epoch 22/50\n",
            "382/382 [==============================] - ETA: 0s - loss: 1.6513 - accuracy: 0.3145\n",
            "Epoch 22: val_accuracy did not improve from 0.46516\n",
            "382/382 [==============================] - 15s 40ms/step - loss: 1.6513 - accuracy: 0.3145 - val_loss: 1.5974 - val_accuracy: 0.3544\n",
            "Epoch 23/50\n",
            "380/382 [============================>.] - ETA: 0s - loss: 1.6491 - accuracy: 0.3277\n",
            "Epoch 23: val_accuracy did not improve from 0.46516\n",
            "382/382 [==============================] - 15s 39ms/step - loss: 1.6507 - accuracy: 0.3277 - val_loss: 1.6039 - val_accuracy: 0.3658\n",
            "Epoch 24/50\n",
            "381/382 [============================>.] - ETA: 0s - loss: 1.6220 - accuracy: 0.3361\n",
            "Epoch 24: val_accuracy did not improve from 0.46516\n",
            "382/382 [==============================] - 15s 39ms/step - loss: 1.6222 - accuracy: 0.3361 - val_loss: 1.5843 - val_accuracy: 0.3672\n",
            "Epoch 25/50\n",
            "381/382 [============================>.] - ETA: 0s - loss: 1.6125 - accuracy: 0.3381\n",
            "Epoch 25: val_accuracy did not improve from 0.46516\n",
            "382/382 [==============================] - 15s 39ms/step - loss: 1.6134 - accuracy: 0.3381 - val_loss: 1.5646 - val_accuracy: 0.3799\n",
            "Epoch 26/50\n",
            "381/382 [============================>.] - ETA: 0s - loss: 1.5979 - accuracy: 0.3371\n",
            "Epoch 26: val_accuracy did not improve from 0.46516\n",
            "382/382 [==============================] - 15s 39ms/step - loss: 1.5976 - accuracy: 0.3372 - val_loss: 1.5668 - val_accuracy: 0.3830\n",
            "Epoch 27/50\n",
            "381/382 [============================>.] - ETA: 0s - loss: 1.5642 - accuracy: 0.3546\n",
            "Epoch 27: val_accuracy did not improve from 0.46516\n",
            "382/382 [==============================] - 15s 39ms/step - loss: 1.5640 - accuracy: 0.3545 - val_loss: 1.5424 - val_accuracy: 0.3823\n",
            "Epoch 28/50\n",
            "381/382 [============================>.] - ETA: 0s - loss: 1.5665 - accuracy: 0.3558\n",
            "Epoch 28: val_accuracy did not improve from 0.46516\n",
            "382/382 [==============================] - 16s 41ms/step - loss: 1.5672 - accuracy: 0.3559 - val_loss: 1.5574 - val_accuracy: 0.3825\n",
            "Epoch 29/50\n",
            "381/382 [============================>.] - ETA: 0s - loss: 1.5431 - accuracy: 0.3591\n",
            "Epoch 29: val_accuracy did not improve from 0.46516\n",
            "382/382 [==============================] - 15s 39ms/step - loss: 1.5434 - accuracy: 0.3591 - val_loss: 1.5302 - val_accuracy: 0.3860\n",
            "Epoch 30/50\n",
            "381/382 [============================>.] - ETA: 0s - loss: 1.5314 - accuracy: 0.3602\n",
            "Epoch 30: val_accuracy did not improve from 0.46516\n",
            "382/382 [==============================] - 15s 39ms/step - loss: 1.5316 - accuracy: 0.3601 - val_loss: 1.5391 - val_accuracy: 0.3809\n",
            "Epoch 31/50\n",
            "380/382 [============================>.] - ETA: 0s - loss: 1.5270 - accuracy: 0.3743\n",
            "Epoch 31: val_accuracy did not improve from 0.46516\n",
            "382/382 [==============================] - 15s 39ms/step - loss: 1.5264 - accuracy: 0.3745 - val_loss: 1.5252 - val_accuracy: 0.3992\n",
            "Epoch 32/50\n",
            "381/382 [============================>.] - ETA: 0s - loss: 1.5174 - accuracy: 0.3704\n",
            "Epoch 32: val_accuracy did not improve from 0.46516\n",
            "382/382 [==============================] - 16s 41ms/step - loss: 1.5180 - accuracy: 0.3704 - val_loss: 1.5906 - val_accuracy: 0.3830\n",
            "Epoch 33/50\n",
            "382/382 [==============================] - ETA: 0s - loss: 1.4936 - accuracy: 0.3801\n",
            "Epoch 33: val_accuracy did not improve from 0.46516\n",
            "382/382 [==============================] - 15s 39ms/step - loss: 1.4936 - accuracy: 0.3801 - val_loss: 1.4932 - val_accuracy: 0.4034\n",
            "Epoch 34/50\n",
            "380/382 [============================>.] - ETA: 0s - loss: 1.4662 - accuracy: 0.3927\n",
            "Epoch 34: val_accuracy did not improve from 0.46516\n",
            "382/382 [==============================] - 15s 39ms/step - loss: 1.4662 - accuracy: 0.3925 - val_loss: 1.4688 - val_accuracy: 0.4208\n",
            "Epoch 35/50\n",
            "381/382 [============================>.] - ETA: 0s - loss: 1.5015 - accuracy: 0.3848\n",
            "Epoch 35: val_accuracy did not improve from 0.46516\n",
            "382/382 [==============================] - 15s 39ms/step - loss: 1.5014 - accuracy: 0.3848 - val_loss: 1.4678 - val_accuracy: 0.4292\n",
            "Epoch 36/50\n",
            "382/382 [==============================] - ETA: 0s - loss: 1.4484 - accuracy: 0.4015\n",
            "Epoch 36: val_accuracy did not improve from 0.46516\n",
            "382/382 [==============================] - 15s 39ms/step - loss: 1.4484 - accuracy: 0.4015 - val_loss: 1.4928 - val_accuracy: 0.4141\n",
            "Epoch 37/50\n",
            "380/382 [============================>.] - ETA: 0s - loss: 1.4692 - accuracy: 0.4039\n",
            "Epoch 37: val_accuracy did not improve from 0.46516\n",
            "382/382 [==============================] - 15s 39ms/step - loss: 1.4700 - accuracy: 0.4037 - val_loss: 1.4541 - val_accuracy: 0.4364\n",
            "Epoch 38/50\n",
            "382/382 [==============================] - ETA: 0s - loss: 1.4672 - accuracy: 0.3994\n",
            "Epoch 38: val_accuracy did not improve from 0.46516\n",
            "382/382 [==============================] - 15s 39ms/step - loss: 1.4672 - accuracy: 0.3994 - val_loss: 1.5267 - val_accuracy: 0.4073\n",
            "Epoch 39/50\n",
            "382/382 [==============================] - ETA: 0s - loss: 1.4622 - accuracy: 0.4025\n",
            "Epoch 39: val_accuracy did not improve from 0.46516\n",
            "382/382 [==============================] - 15s 40ms/step - loss: 1.4622 - accuracy: 0.4025 - val_loss: 1.5078 - val_accuracy: 0.4127\n",
            "Epoch 40/50\n",
            "382/382 [==============================] - ETA: 0s - loss: 1.4415 - accuracy: 0.4091\n",
            "Epoch 40: val_accuracy did not improve from 0.46516\n",
            "382/382 [==============================] - 15s 39ms/step - loss: 1.4415 - accuracy: 0.4091 - val_loss: 1.4173 - val_accuracy: 0.4536\n",
            "Epoch 41/50\n",
            "380/382 [============================>.] - ETA: 0s - loss: 1.4164 - accuracy: 0.4179\n",
            "Epoch 41: val_accuracy did not improve from 0.46516\n",
            "382/382 [==============================] - 15s 39ms/step - loss: 1.4155 - accuracy: 0.4183 - val_loss: 1.4501 - val_accuracy: 0.4408\n",
            "Epoch 42/50\n",
            "381/382 [============================>.] - ETA: 0s - loss: 1.4129 - accuracy: 0.4244\n",
            "Epoch 42: val_accuracy did not improve from 0.46516\n",
            "382/382 [==============================] - 15s 39ms/step - loss: 1.4130 - accuracy: 0.4245 - val_loss: 1.4249 - val_accuracy: 0.4389\n",
            "Epoch 43/50\n",
            "380/382 [============================>.] - ETA: 0s - loss: 1.4231 - accuracy: 0.4157\n",
            "Epoch 43: val_accuracy did not improve from 0.46516\n",
            "382/382 [==============================] - 15s 40ms/step - loss: 1.4244 - accuracy: 0.4157 - val_loss: 1.4932 - val_accuracy: 0.4252\n",
            "Epoch 44/50\n",
            "380/382 [============================>.] - ETA: 0s - loss: 1.3940 - accuracy: 0.4275\n",
            "Epoch 44: val_accuracy did not improve from 0.46516\n",
            "382/382 [==============================] - 15s 39ms/step - loss: 1.3941 - accuracy: 0.4272 - val_loss: 1.4149 - val_accuracy: 0.4484\n",
            "Epoch 45/50\n",
            "380/382 [============================>.] - ETA: 0s - loss: 1.3835 - accuracy: 0.4271\n",
            "Epoch 45: val_accuracy did not improve from 0.46516\n",
            "382/382 [==============================] - 15s 39ms/step - loss: 1.3842 - accuracy: 0.4269 - val_loss: 1.3959 - val_accuracy: 0.4554\n",
            "Epoch 46/50\n",
            "381/382 [============================>.] - ETA: 0s - loss: 1.4358 - accuracy: 0.4193\n",
            "Epoch 46: val_accuracy did not improve from 0.46516\n",
            "382/382 [==============================] - 15s 40ms/step - loss: 1.4361 - accuracy: 0.4194 - val_loss: 1.3983 - val_accuracy: 0.4450\n",
            "Epoch 47/50\n",
            "382/382 [==============================] - ETA: 0s - loss: 1.4059 - accuracy: 0.4218\n",
            "Epoch 47: val_accuracy did not improve from 0.46516\n",
            "382/382 [==============================] - 16s 41ms/step - loss: 1.4059 - accuracy: 0.4218 - val_loss: 1.3829 - val_accuracy: 0.4549\n",
            "Epoch 48/50\n",
            "381/382 [============================>.] - ETA: 0s - loss: 1.4024 - accuracy: 0.4224\n",
            "Epoch 48: val_accuracy did not improve from 0.46516\n",
            "382/382 [==============================] - 15s 39ms/step - loss: 1.4023 - accuracy: 0.4223 - val_loss: 1.4390 - val_accuracy: 0.4317\n",
            "Epoch 49/50\n",
            "381/382 [============================>.] - ETA: 0s - loss: 1.4216 - accuracy: 0.4161\n",
            "Epoch 49: val_accuracy did not improve from 0.46516\n",
            "382/382 [==============================] - 16s 41ms/step - loss: 1.4211 - accuracy: 0.4163 - val_loss: 1.4609 - val_accuracy: 0.4352\n",
            "Epoch 50/50\n",
            "381/382 [============================>.] - ETA: 0s - loss: 1.4289 - accuracy: 0.4102\n",
            "Epoch 50: val_accuracy did not improve from 0.46516\n",
            "382/382 [==============================] - 16s 41ms/step - loss: 1.4288 - accuracy: 0.4102 - val_loss: 1.3938 - val_accuracy: 0.4570\n"
          ]
        }
      ],
      "source": [
        "history = model.fit(train_ds, validation_data=val_ds, batch_size=batch_size, epochs=50, class_weight=class_weights, callbacks=callbacks)\n"
      ]
    },
    {
      "cell_type": "code",
      "execution_count": null,
      "metadata": {
        "colab": {
          "base_uri": "https://localhost:8080/"
        },
        "id": "b5UNojeVfjJR",
        "outputId": "eccb80ea-e95c-4755-8d8b-1914d1b0e627"
      },
      "outputs": [
        {
          "data": {
            "text/plain": [
              "<tensorflow.python.checkpoint.checkpoint.CheckpointLoadStatus at 0x7f085414d750>"
            ]
          },
          "execution_count": 55,
          "metadata": {},
          "output_type": "execute_result"
        }
      ],
      "source": [
        "model.load_weights(\"checkpoints_best_only\")\n"
      ]
    },
    {
      "cell_type": "code",
      "execution_count": null,
      "metadata": {
        "colab": {
          "base_uri": "https://localhost:8080/"
        },
        "id": "Umf6RmFgq-GE",
        "outputId": "05915a91-85ee-4c70-c82f-ec4524399a82"
      },
      "outputs": [
        {
          "name": "stdout",
          "output_type": "stream",
          "text": [
            "113/113 [==============================] - 1s 11ms/step - loss: 1.4077 - accuracy: 0.4707\n"
          ]
        },
        {
          "data": {
            "text/plain": [
              "[1.4076967239379883, 0.47074395418167114]"
            ]
          },
          "execution_count": 56,
          "metadata": {},
          "output_type": "execute_result"
        }
      ],
      "source": [
        "model.evaluate(test_ds)\n"
      ]
    },
    {
      "cell_type": "code",
      "execution_count": null,
      "metadata": {
        "colab": {
          "base_uri": "https://localhost:8080/",
          "height": 699
        },
        "id": "TRNIecuzrBvb",
        "outputId": "72c24b04-4704-4bac-c96e-a1b7629627e9"
      },
      "outputs": [
        {
          "data": {
            "image/png": "[encoded data removed]",
            "text/plain": [
              "<Figure size 800x800 with 2 Axes>"
            ]
          },
          "metadata": {},
          "output_type": "display_data"
        }
      ],
      "source": [
        "\n",
        "\n",
        "acc = history.history['accuracy']\n",
        "val_acc = history.history['val_accuracy']\n",
        "\n",
        "loss = history.history['loss']\n",
        "val_loss = history.history['val_loss']\n",
        "\n",
        "epochs_range = range(50)\n",
        "\n",
        "plt.figure(figsize=(8, 8))\n",
        "plt.subplot(1, 2, 1)\n",
        "plt.plot(epochs_range, acc, label='Training Accuracy')\n",
        "plt.plot(epochs_range, val_acc, label='Validation Accuracy')\n",
        "plt.legend(loc='lower right')\n",
        "plt.title('Training and Validation Accuracy')\n",
        "\n",
        "plt.subplot(1, 2, 2)\n",
        "plt.plot(epochs_range, loss, label='Training Loss')\n",
        "plt.plot(epochs_range, val_loss, label='Validation Loss')\n",
        "plt.legend(loc='upper right')\n",
        "plt.title('Training and Validation Loss')\n",
        "plt.show()"
      ]
    },
    {
      "cell_type": "code",
      "execution_count": null,
      "metadata": {
        "id": "A7Q4rgMWp1Aq"
      },
      "outputs": [],
      "source": [
        "from sklearn.metrics import classification_report, confusion_matrix\n"
      ]
    },
    {
      "cell_type": "code",
      "execution_count": null,
      "metadata": {
        "colab": {
          "base_uri": "https://localhost:8080/"
        },
        "id": "Eq-5rlXWqBJ8",
        "outputId": "5653d126-9f5a-4c95-f1fd-275f23415c85"
      },
      "outputs": [
        {
          "name": "stdout",
          "output_type": "stream",
          "text": [
            "2/2 [==============================] - 0s 6ms/step\n",
            "2/2 [==============================] - 0s 7ms/step\n",
            "2/2 [==============================] - 0s 9ms/step\n",
            "2/2 [==============================] - 0s 6ms/step\n",
            "2/2 [==============================] - 0s 5ms/step\n",
            "2/2 [==============================] - 0s 6ms/step\n",
            "2/2 [==============================] - 0s 6ms/step\n",
            "2/2 [==============================] - 0s 5ms/step\n",
            "2/2 [==============================] - 0s 6ms/step\n",
            "2/2 [==============================] - 0s 6ms/step\n",
            "2/2 [==============================] - 0s 6ms/step\n",
            "2/2 [==============================] - 0s 6ms/step\n",
            "2/2 [==============================] - 0s 6ms/step\n",
            "2/2 [==============================] - 0s 5ms/step\n",
            "2/2 [==============================] - 0s 6ms/step\n",
            "2/2 [==============================] - 0s 7ms/step\n",
            "2/2 [==============================] - 0s 6ms/step\n",
            "2/2 [==============================] - 0s 8ms/step\n",
            "2/2 [==============================] - 0s 8ms/step\n",
            "2/2 [==============================] - 0s 8ms/step\n",
            "2/2 [==============================] - 0s 7ms/step\n",
            "2/2 [==============================] - 0s 7ms/step\n",
            "2/2 [==============================] - 0s 7ms/step\n",
            "2/2 [==============================] - 0s 7ms/step\n",
            "2/2 [==============================] - 0s 8ms/step\n",
            "2/2 [==============================] - 0s 8ms/step\n",
            "2/2 [==============================] - 0s 8ms/step\n",
            "2/2 [==============================] - 0s 7ms/step\n",
            "2/2 [==============================] - 0s 6ms/step\n",
            "2/2 [==============================] - 0s 6ms/step\n",
            "2/2 [==============================] - 0s 7ms/step\n",
            "2/2 [==============================] - 0s 7ms/step\n",
            "2/2 [==============================] - 0s 6ms/step\n",
            "2/2 [==============================] - 0s 6ms/step\n",
            "2/2 [==============================] - 0s 7ms/step\n",
            "2/2 [==============================] - 0s 6ms/step\n",
            "2/2 [==============================] - 0s 6ms/step\n",
            "2/2 [==============================] - 0s 8ms/step\n",
            "2/2 [==============================] - 0s 7ms/step\n",
            "2/2 [==============================] - 0s 6ms/step\n",
            "2/2 [==============================] - 0s 6ms/step\n",
            "2/2 [==============================] - 0s 6ms/step\n",
            "2/2 [==============================] - 0s 6ms/step\n",
            "2/2 [==============================] - 0s 6ms/step\n",
            "2/2 [==============================] - 0s 7ms/step\n",
            "2/2 [==============================] - 0s 7ms/step\n",
            "2/2 [==============================] - 0s 11ms/step\n",
            "2/2 [==============================] - 0s 7ms/step\n",
            "2/2 [==============================] - 0s 7ms/step\n",
            "2/2 [==============================] - 0s 7ms/step\n",
            "2/2 [==============================] - 0s 8ms/step\n",
            "2/2 [==============================] - 0s 6ms/step\n",
            "2/2 [==============================] - 0s 7ms/step\n",
            "2/2 [==============================] - 0s 8ms/step\n",
            "2/2 [==============================] - 0s 6ms/step\n",
            "2/2 [==============================] - 0s 7ms/step\n",
            "2/2 [==============================] - 0s 7ms/step\n",
            "2/2 [==============================] - 0s 7ms/step\n",
            "2/2 [==============================] - 0s 7ms/step\n",
            "2/2 [==============================] - 0s 6ms/step\n",
            "2/2 [==============================] - 0s 6ms/step\n",
            "2/2 [==============================] - 0s 7ms/step\n",
            "2/2 [==============================] - 0s 7ms/step\n",
            "2/2 [==============================] - 0s 6ms/step\n",
            "2/2 [==============================] - 0s 7ms/step\n",
            "2/2 [==============================] - 0s 6ms/step\n",
            "2/2 [==============================] - 0s 7ms/step\n",
            "2/2 [==============================] - 0s 6ms/step\n",
            "2/2 [==============================] - 0s 7ms/step\n",
            "2/2 [==============================] - 0s 7ms/step\n",
            "2/2 [==============================] - 0s 6ms/step\n",
            "2/2 [==============================] - 0s 6ms/step\n",
            "2/2 [==============================] - 0s 8ms/step\n",
            "2/2 [==============================] - 0s 7ms/step\n",
            "2/2 [==============================] - 0s 8ms/step\n",
            "2/2 [==============================] - 0s 8ms/step\n",
            "2/2 [==============================] - 0s 7ms/step\n",
            "2/2 [==============================] - 0s 7ms/step\n",
            "2/2 [==============================] - 0s 8ms/step\n",
            "2/2 [==============================] - 0s 7ms/step\n",
            "2/2 [==============================] - 0s 7ms/step\n",
            "2/2 [==============================] - 0s 9ms/step\n",
            "2/2 [==============================] - 0s 7ms/step\n",
            "2/2 [==============================] - 0s 9ms/step\n",
            "2/2 [==============================] - 0s 9ms/step\n",
            "2/2 [==============================] - 0s 10ms/step\n",
            "2/2 [==============================] - 0s 6ms/step\n",
            "2/2 [==============================] - 0s 6ms/step\n",
            "2/2 [==============================] - 0s 6ms/step\n",
            "2/2 [==============================] - 0s 6ms/step\n",
            "2/2 [==============================] - 0s 6ms/step\n",
            "2/2 [==============================] - 0s 8ms/step\n",
            "2/2 [==============================] - 0s 6ms/step\n",
            "2/2 [==============================] - 0s 6ms/step\n",
            "2/2 [==============================] - 0s 6ms/step\n",
            "2/2 [==============================] - 0s 6ms/step\n",
            "2/2 [==============================] - 0s 8ms/step\n",
            "2/2 [==============================] - 0s 6ms/step\n",
            "2/2 [==============================] - 0s 6ms/step\n",
            "2/2 [==============================] - 0s 6ms/step\n",
            "2/2 [==============================] - 0s 7ms/step\n",
            "2/2 [==============================] - 0s 8ms/step\n",
            "2/2 [==============================] - 0s 6ms/step\n",
            "2/2 [==============================] - 0s 8ms/step\n",
            "2/2 [==============================] - 0s 12ms/step\n",
            "2/2 [==============================] - 0s 6ms/step\n",
            "2/2 [==============================] - 0s 6ms/step\n",
            "2/2 [==============================] - 0s 6ms/step\n",
            "2/2 [==============================] - 0s 6ms/step\n",
            "2/2 [==============================] - 0s 6ms/step\n",
            "2/2 [==============================] - 0s 6ms/step\n",
            "2/2 [==============================] - 0s 9ms/step\n",
            "1/1 [==============================] - 0s 87ms/step\n"
          ]
        }
      ],
      "source": [
        "\n",
        "predictions = np.array([])\n",
        "labels =  np.array([])\n",
        "for x, y in test_ds:\n",
        "  Y_pred=model.predict(x)\n",
        "  y_prediction = np.argmax(Y_pred, axis=1)\n",
        "  predictions = np.concatenate([predictions, y_prediction])\n",
        "  labels = np.concatenate([labels, y.numpy()])"
      ]
    },
    {
      "cell_type": "code",
      "execution_count": null,
      "metadata": {
        "colab": {
          "base_uri": "https://localhost:8080/"
        },
        "id": "Gj4aPGfiqDZw",
        "outputId": "5bf93c48-a31e-4461-c8ac-8e512c541cc0"
      },
      "outputs": [
        {
          "name": "stdout",
          "output_type": "stream",
          "text": [
            "Confusion Matrix\n",
            "[[ 210  101   67   65  160  289   66]\n",
            " [   7   76    5    3    6   13    1]\n",
            " [ 117   48   98   67  179  284  231]\n",
            " [  57   17   34 1255  102  212   97]\n",
            " [  43   33   47   94  558  404   54]\n",
            " [  80   56   64   87  314  591   55]\n",
            " [  18    4   48   25   20   45  671]]\n"
          ]
        }
      ],
      "source": [
        "print('Confusion Matrix')\n",
        "print(confusion_matrix(y_true=labels, y_pred=predictions))"
      ]
    },
    {
      "cell_type": "code",
      "execution_count": null,
      "metadata": {
        "id": "Q91FTBMWqUZh"
      },
      "outputs": [],
      "source": [
        "classes= ['angry', 'disgust' , 'fear' , 'happy' , 'neutral' , 'sad', 'surprise']"
      ]
    },
    {
      "cell_type": "code",
      "execution_count": null,
      "metadata": {
        "colab": {
          "base_uri": "https://localhost:8080/",
          "height": 720
        },
        "id": "29csojpJqp4U",
        "outputId": "7443b4b9-5744-4733-e26c-257c7d2347d5"
      },
      "outputs": [
        {
          "name": "stdout",
          "output_type": "stream",
          "text": [
            "[[ 210  101   67   65  160  289   66]\n",
            " [   7   76    5    3    6   13    1]\n",
            " [ 117   48   98   67  179  284  231]\n",
            " [  57   17   34 1255  102  212   97]\n",
            " [  43   33   47   94  558  404   54]\n",
            " [  80   56   64   87  314  591   55]\n",
            " [  18    4   48   25   20   45  671]]\n"
          ]
        },
        {
          "data": {
            "image/png": "[encoded data removed]",
            "text/plain": [
              "<Figure size 600x600 with 2 Axes>"
            ]
          },
          "metadata": {},
          "output_type": "display_data"
        }
      ],
      "source": [
        "import itertools\n",
        "def plot_confusion_matrix(cm, classes,\n",
        "                          normalize = False,\n",
        "                          title = 'Confusion Matrix',\n",
        "                          cmap = plt.cm.Reds):\n",
        "\n",
        "    plt.figure(figsize = (6,6))\n",
        "    plt.imshow(cm, interpolation = 'nearest', cmap = cmap)\n",
        "    plt.title(title)\n",
        "    plt.colorbar()\n",
        "    plt.grid(False)\n",
        "    tick_marks = np.arange(len(classes))\n",
        "    plt.xticks(tick_marks, classes, rotation = 90)\n",
        "    plt.yticks(tick_marks, classes)\n",
        "    if normalize:\n",
        "        cm = cm.astype('float') / cm.sum(axis = 1)[:, np.newaxis]\n",
        "\n",
        "    thresh = cm.max() / 2.\n",
        "    cm = np.round(cm,2)\n",
        "    for i, j in itertools.product(range(cm.shape[0]), range(cm.shape[1])):\n",
        "        plt.text(j, i, cm[i, j],\n",
        "                 fontsize = 12,\n",
        "                 horizontalalignment = \"center\",\n",
        "                 color = \"white\" if cm[i, j] > thresh else \"black\")\n",
        "    plt.tight_layout()\n",
        "    plt.ylabel('True label')\n",
        "    plt.xlabel('Predicted label')\n",
        "    plt.show()\n",
        "#get confusion matrix\n",
        "cm = confusion_matrix(labels, predictions)\n",
        "print(cm)\n",
        "\n",
        "#plot\n",
        "plot_confusion_matrix(cm, classes, normalize=False)"
      ]
    },
    {
      "cell_type": "code",
      "execution_count": null,
      "metadata": {
        "colab": {
          "base_uri": "https://localhost:8080/"
        },
        "id": "g2eLomYgqvPz",
        "outputId": "df2d36fc-8ab9-440e-8460-ca6ef831d7f8"
      },
      "outputs": [
        {
          "name": "stdout",
          "output_type": "stream",
          "text": [
            "Classification Report\n",
            "              precision    recall  f1-score   support\n",
            "\n",
            "       angry       0.39      0.22      0.28       958\n",
            "     disgust       0.23      0.68      0.34       111\n",
            "        fear       0.27      0.10      0.14      1024\n",
            "       happy       0.79      0.71      0.74      1774\n",
            "     neutral       0.42      0.45      0.43      1233\n",
            "         sad       0.32      0.47      0.38      1247\n",
            "    surprise       0.57      0.81      0.67       831\n",
            "\n",
            "    accuracy                           0.48      7178\n",
            "   macro avg       0.43      0.49      0.43      7178\n",
            "weighted avg       0.48      0.48      0.47      7178\n",
            "\n"
          ]
        }
      ],
      "source": [
        "print('Classification Report')\n",
        "target_names = classes\n",
        "print(classification_report(y_true=labels, y_pred=predictions, target_names=target_names))"
      ]
    },
    {
      "cell_type": "code",
      "execution_count": null,
      "metadata": {
        "id": "alZkQ-7sq0JL"
      },
      "outputs": [],
      "source": [
        "model.save(\"brain_model.h5\")\n"
      ]
    },
    {
      "cell_type": "code",
      "execution_count": null,
      "metadata": {
        "colab": {
          "base_uri": "https://localhost:8080/"
        },
        "id": "0gctVlw6q6zQ",
        "outputId": "2346d7e9-4b9e-482b-9f05-633026dc088c"
      },
      "outputs": [
        {
          "name": "stdout",
          "output_type": "stream",
          "text": [
            "conv2d\n",
            "conv2d_1\n",
            "max_pooling2d\n",
            "dropout\n",
            "conv2d_2\n",
            "max_pooling2d_1\n",
            "dropout_1\n",
            "conv2d_3\n",
            "max_pooling2d_2\n",
            "dropout_2\n",
            "conv2d_4\n",
            "max_pooling2d_3\n",
            "dropout_3\n",
            "flatten\n",
            "dense\n",
            "dropout_4\n",
            "dense_1\n"
          ]
        }
      ],
      "source": [
        "for i in model.layers:\n",
        "  print(i.name)"
      ]
    },
    {
      "cell_type": "code",
      "execution_count": null,
      "metadata": {
        "id": "mX5v4WTNrtfg"
      },
      "outputs": [],
      "source": [
        "def get_img_array(img_path, target_size):\n",
        "  img = keras.utils.load_img(img_path, target_size=target_size)\n",
        "  array = keras.utils.img_to_array(img)\n",
        "  array = np.expand_dims(array, axis=0)\n",
        "  return array"
      ]
    },
    {
      "cell_type": "code",
      "execution_count": null,
      "metadata": {
        "colab": {
          "base_uri": "https://localhost:8080/"
        },
        "id": "3liK0hCYr5ET",
        "outputId": "2548dec7-7fc4-4cca-f8c8-b6e689ae5b37"
      },
      "outputs": [
        {
          "name": "stdout",
          "output_type": "stream",
          "text": [
            "Downloading data from https://i.pinimg.com/originals/b2/41/4f/b2414f826f6a7df83e49b69b0474ef14.jpg\n",
            "23358/23358 [==============================] - 0s 0us/step\n"
          ]
        }
      ],
      "source": [
        "\n",
        "img_path = tf.keras.utils.get_file(\"face.jpg\",\n",
        "    \"https://i.pinimg.com/originals/b2/41/4f/b2414f826f6a7df83e49b69b0474ef14.jpg\"\n",
        ")"
      ]
    },
    {
      "cell_type": "code",
      "execution_count": null,
      "metadata": {
        "id": "yDif2JX4rxL-"
      },
      "outputs": [],
      "source": [
        "img_array = get_img_array(img_path, target_size=(48, 48))\n"
      ]
    },
    {
      "cell_type": "code",
      "execution_count": null,
      "metadata": {
        "colab": {
          "base_uri": "https://localhost:8080/"
        },
        "id": "u4koovpGq86y",
        "outputId": "01651065-4a8c-4ae3-89a3-2c1695d0eea3"
      },
      "outputs": [
        {
          "name": "stdout",
          "output_type": "stream",
          "text": [
            "113/113 [==============================] - 2s 13ms/step\n",
            "Predicted: [1.7979626e-01 1.0643876e-02 2.4624111e-01 1.2970860e-01 4.3296941e-02\n",
            " 7.6535307e-02 3.1377798e-01 1.6763677e-19 3.5151200e-19 4.2349822e-20\n",
            " 2.2205470e-19 2.6108644e-16 7.5361985e-22 4.1462974e-19 6.4821337e-20\n",
            " 7.5439649e-22 2.4404250e-17 4.7132315e-20 1.6885235e-19 2.4169312e-16\n",
            " 9.7757901e-18 4.2233739e-24 4.9053295e-18 3.4712206e-15 3.3332648e-15\n",
            " 4.3468905e-19 1.5401228e-21 9.0331744e-16 8.9507980e-20 2.2486489e-21\n",
            " 6.6675708e-20 9.9872689e-22]\n"
          ]
        }
      ],
      "source": [
        "preds = model.predict(test_ds)\n",
        "print(\"Predicted:\", preds[0])\n",
        "y_pred_classes = np.argmax(preds, axis=1) # pick the highest probability with \"np.argmax()\", and turn it into an index uing \"axis=1\"\n"
      ]
    },
    {
      "cell_type": "code",
      "execution_count": null,
      "metadata": {
        "colab": {
          "base_uri": "https://localhost:8080/",
          "height": 235
        },
        "id": "4i9uWh3qroep",
        "outputId": "8e49655a-c740-4634-f49c-4cdc4e2e3060"
      },
      "outputs": [
        {
          "ename": "IndexError",
          "evalue": "ignored",
          "output_type": "error",
          "traceback": [
            "\u001b[0;31m---------------------------------------------------------------------------\u001b[0m",
            "\u001b[0;31mIndexError\u001b[0m                                Traceback (most recent call last)",
            "\u001b[0;32m<ipython-input-55-f76c7bc801b7>\u001b[0m in \u001b[0;36m<cell line: 2>\u001b[0;34m()\u001b[0m\n\u001b[1;32m      1\u001b[0m \u001b[0mrandom_num\u001b[0m \u001b[0;34m=\u001b[0m \u001b[0mnp\u001b[0m\u001b[0;34m.\u001b[0m\u001b[0mrandom\u001b[0m\u001b[0;34m.\u001b[0m\u001b[0mchoice\u001b[0m\u001b[0;34m(\u001b[0m\u001b[0mtest_ds\u001b[0m\u001b[0;34m.\u001b[0m\u001b[0msize\u001b[0m\u001b[0;34m)\u001b[0m\u001b[0;34m\u001b[0m\u001b[0;34m\u001b[0m\u001b[0m\n\u001b[0;32m----> 2\u001b[0;31m \u001b[0mX_sample\u001b[0m \u001b[0;34m=\u001b[0m \u001b[0mtest_ds\u001b[0m\u001b[0;34m[\u001b[0m\u001b[0;34m(\u001b[0m\u001b[0mrandom_num\u001b[0m\u001b[0;34m)\u001b[0m\u001b[0;34m+\u001b[0m\u001b[0;36m1\u001b[0m\u001b[0;34m]\u001b[0m\u001b[0;34m\u001b[0m\u001b[0;34m\u001b[0m\u001b[0m\n\u001b[0m\u001b[1;32m      3\u001b[0m \u001b[0;34m\u001b[0m\u001b[0m\n\u001b[1;32m      4\u001b[0m \u001b[0;31m# save true label of this sample in a variable\u001b[0m\u001b[0;34m\u001b[0m\u001b[0;34m\u001b[0m\u001b[0m\n\u001b[1;32m      5\u001b[0m \u001b[0my_true\u001b[0m \u001b[0;34m=\u001b[0m \u001b[0mnp\u001b[0m\u001b[0;34m.\u001b[0m\u001b[0margmax\u001b[0m\u001b[0;34m(\u001b[0m\u001b[0mtest_ds\u001b[0m\u001b[0;34m.\u001b[0m\u001b[0mclass_names\u001b[0m\u001b[0;34m,\u001b[0m \u001b[0maxis\u001b[0m\u001b[0;34m=\u001b[0m\u001b[0;36m1\u001b[0m\u001b[0;34m)\u001b[0m\u001b[0;34m\u001b[0m\u001b[0;34m\u001b[0m\u001b[0m\n",
            "\u001b[0;31mIndexError\u001b[0m: too many indices for array: array is 0-dimensional, but 1 were indexed"
          ]
        }
      ],
      "source": [
        "random_num = np.random.choice(len(x_test))\n",
        "X_sample = x_test[random_num]\n",
        "\n",
        "# save true label of this sample in a variable\n",
        "y_true = np.argmax(y_test, axis=1)\n",
        "y_sample_true = y_true[random_num]\n",
        "\n",
        "# save a predicted label of this sample in a variable\n",
        "y_sample_pred_class = y_pred_classes[random_num]"
      ]
    },
    {
      "cell_type": "code",
      "execution_count": null,
      "metadata": {
        "id": "dY4zcH9uWVj4"
      },
      "outputs": [],
      "source": [
        "class_names = train_ds.class_names\n",
        "plt.figure(figsize=(8, 8))\n",
        "for images, labels in train_ds.take(1):\n",
        "  for i in range(6):\n",
        "    ax = plt.subplot(3, 3, i + 1)\n",
        "    plt.imshow(images[i].numpy().astype(\"uint8\"))\n",
        "    plt.title(class_names[labels[i]])\n",
        "    plt.axis(\"off\")"
      ]
    },
    {
      "cell_type": "code",
      "execution_count": null,
      "metadata": {
        "id": "s04yTEQCbwDB"
      },
      "outputs": [],
      "source": [
        "import cv2\n",
        "from numpy import asarray\n",
        "\n",
        "test_img = cv2.imread(\"/content/test/happy/PrivateTest_10077120.jpg\")\n",
        "dim = (48, 48)\n",
        "\n",
        "# resize image\n",
        "test_img = cv2.resize(test_img, dim)\n",
        "\n",
        "test_img_arr = asarray(test_img)\n",
        "test_img_arr=np.reshape(test_img, (-1, 48 , 48, 3))"
      ]
    },
    {
      "cell_type": "code",
      "execution_count": null,
      "metadata": {
        "colab": {
          "base_uri": "https://localhost:8080/",
          "height": 466
        },
        "id": "dhBSQbkJfC-O",
        "outputId": "9d1d1776-3d56-4b55-da62-dab818fea045"
      },
      "outputs": [
        {
          "data": {
            "text/plain": [
              "(<Figure size 640x480 with 1 Axes>,\n",
              " <matplotlib.image.AxesImage at 0x7f926c373a30>)"
            ]
          },
          "execution_count": 89,
          "metadata": {},
          "output_type": "execute_result"
        },
        {
          "data": {
            "image/png": "[encoded data removed]",
            "text/plain": [
              "<Figure size 640x480 with 1 Axes>"
            ]
          },
          "metadata": {},
          "output_type": "display_data"
        }
      ],
      "source": [
        "plt.figure(), plt.imshow(test_img,cmap='gray')"
      ]
    },
    {
      "cell_type": "code",
      "execution_count": null,
      "metadata": {
        "colab": {
          "base_uri": "https://localhost:8080/"
        },
        "id": "23FmfPrmcFcA",
        "outputId": "3eb3b457-bae0-4de5-848d-ad960e57ad54"
      },
      "outputs": [
        {
          "name": "stdout",
          "output_type": "stream",
          "text": [
            "1/1 [==============================] - 0s 84ms/step\n",
            "Predicted: [2.5232349e-02 2.9376383e-06 1.6028533e-02 9.0899110e-01 3.2059863e-02\n",
            " 1.4335788e-02 3.3494970e-03 0.0000000e+00 0.0000000e+00 0.0000000e+00\n",
            " 0.0000000e+00 0.0000000e+00 0.0000000e+00 0.0000000e+00 0.0000000e+00\n",
            " 0.0000000e+00 1.6749988e-38 0.0000000e+00 0.0000000e+00 1.8396801e-33\n",
            " 0.0000000e+00 0.0000000e+00 0.0000000e+00 6.3165447e-35 0.0000000e+00\n",
            " 0.0000000e+00 0.0000000e+00 0.0000000e+00 0.0000000e+00 0.0000000e+00\n",
            " 0.0000000e+00 0.0000000e+00]\n"
          ]
        }
      ],
      "source": [
        "preds = model.predict(test_img_arr)\n",
        "print(\"Predicted:\", preds[0])\n"
      ]
    },
    {
      "cell_type": "code",
      "execution_count": null,
      "metadata": {
        "colab": {
          "base_uri": "https://localhost:8080/",
          "height": 36
        },
        "id": "6DrHJ9VBcNeS",
        "outputId": "31bc30ac-b64d-4813-84f2-2a67718fed64"
      },
      "outputs": [
        {
          "data": {
            "application/vnd.google.colaboratory.intrinsic+json": {
              "type": "string"
            },
            "text/plain": [
              "'happy'"
            ]
          },
          "execution_count": 92,
          "metadata": {},
          "output_type": "execute_result"
        }
      ],
      "source": [
        "y_pred_classes = np.argmax(preds, axis=1) # pick the highest probability with \"np.argmax()\", and turn it into an index uing \"axis=1\"\n",
        "y_true = np.argmax(test_img_arr, axis=1)\n",
        "y_sample_pred_class = y_pred_classes[np.where(test_img_arr)[0][0]]\n",
        "tahmin = classes[y_sample_pred_class]\n",
        "tahmin"
      ]
    },
    {
      "cell_type": "code",
      "execution_count": null,
      "metadata": {
        "colab": {
          "base_uri": "https://localhost:8080/"
        },
        "id": "O5Mlu5SCg0L8",
        "outputId": "3e2ab939-a45a-43c1-964e-d85e53090358"
      },
      "outputs": [
        {
          "data": {
            "text/plain": [
              "array([[ 2,  2,  2],\n",
              "       [17, 17, 17],\n",
              "       [12, 12, 12],\n",
              "       [17, 17, 17],\n",
              "       [16, 16, 16],\n",
              "       [13, 13, 13],\n",
              "       [ 2,  2,  2],\n",
              "       [41, 41, 41],\n",
              "       [14, 14, 14],\n",
              "       [14, 14, 14],\n",
              "       [24, 24, 24],\n",
              "       [27, 27, 27],\n",
              "       [29, 29, 29],\n",
              "       [27, 27, 27],\n",
              "       [29, 29, 29],\n",
              "       [ 5,  5,  5],\n",
              "       [ 5,  5,  5],\n",
              "       [ 5,  5,  5],\n",
              "       [ 5,  5,  5],\n",
              "       [ 5,  5,  5],\n",
              "       [38, 38, 38],\n",
              "       [12, 12, 12],\n",
              "       [12, 12, 12],\n",
              "       [39, 39, 39],\n",
              "       [39, 39, 39],\n",
              "       [39, 39, 39],\n",
              "       [39, 39, 39],\n",
              "       [39, 39, 39],\n",
              "       [38, 38, 38],\n",
              "       [38, 38, 38],\n",
              "       [11, 11, 11],\n",
              "       [10, 10, 10],\n",
              "       [26, 26, 26],\n",
              "       [24, 24, 24],\n",
              "       [24, 24, 24],\n",
              "       [26, 26, 26],\n",
              "       [26, 26, 26],\n",
              "       [24, 24, 24],\n",
              "       [24, 24, 24],\n",
              "       [26, 26, 26],\n",
              "       [25, 25, 25],\n",
              "       [20, 20, 20],\n",
              "       [22, 22, 22],\n",
              "       [21, 21, 21],\n",
              "       [43, 43, 43],\n",
              "       [41, 41, 41],\n",
              "       [26, 26, 26],\n",
              "       [27, 27, 27]])"
            ]
          },
          "execution_count": 100,
          "metadata": {},
          "output_type": "execute_result"
        }
      ],
      "source": [
        "y_sample_true = y_true[np.where(test_img_arr==np.argmax(y_true))[0][0]]\n",
        "y_sample_true\n",
        "\n"
      ]
    },
    {
      "cell_type": "code",
      "execution_count": null,
      "metadata": {
        "colab": {
          "base_uri": "https://localhost:8080/",
          "height": 452
        },
        "id": "uacaGWAmcl8t",
        "outputId": "5bca140d-5300-42bb-bfd2-99b04451f644"
      },
      "outputs": [
        {
          "data": {
            "image/png": "[encoded data removed]",
            "text/plain": [
              "<Figure size 640x480 with 1 Axes>"
            ]
          },
          "metadata": {},
          "output_type": "display_data"
        }
      ],
      "source": [
        "plt.title(f\"Predicted: {tahmin})\n",
        "plt.imshow(test_img, cmap=\"gray\");"
      ]
    },
    {
      "cell_type": "code",
      "execution_count": null,
      "metadata": {
        "id": "JuCIayB9eDzk"
      },
      "outputs": [],
      "source": []
    }
  ],
  "metadata": {
    "accelerator": "GPU",
    "colab": {
      "provenance": []
    },
    "kernelspec": {
      "display_name": "Python 3",
      "name": "python3"
    },
    "language_info": {
      "name": "python"
    }
  },
  "nbformat": 4,
  "nbformat_minor": 0
}